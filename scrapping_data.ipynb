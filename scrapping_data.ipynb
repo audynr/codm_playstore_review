{
 "cells": [
  {
   "cell_type": "markdown",
   "id": "a9fa3bcb",
   "metadata": {},
   "source": [
    "# Proyek Analisis Sentimen\n",
    "- **Nama:** Audy Nadira Ramadanti\n",
    "- **Email:** audynadiraramdanti@gmail.com\n",
    "- **ID Dicoding:** audy_nadira_ramadanti_zWZ9"
   ]
  },
  {
   "cell_type": "code",
   "execution_count": 1,
   "id": "c7dc3e55",
   "metadata": {},
   "outputs": [
    {
     "name": "stdout",
     "output_type": "stream",
     "text": [
      "Requirement already satisfied: google-play-scraper in c:\\users\\fx506\\appdata\\local\\programs\\python\\python311\\lib\\site-packages (1.2.7)Note: you may need to restart the kernel to use updated packages.\n",
      "\n"
     ]
    }
   ],
   "source": [
    "%pip install google-play-scraper"
   ]
  },
  {
   "cell_type": "markdown",
   "id": "61c1cfdd",
   "metadata": {},
   "source": [
    "Perintah !pip install google-play-scraper saya gunakan untuk mengunduh library yang terkait dengan scraping data dari Play Store. Begitu perintah tersebut dijalankan di Jupyter Notebook, pip—manajer paket Python—akan mencari library tersebut di repositori resmi PyPI dan memeriksa versi terbaru beserta dependensi yang dibutuhkan. Setelah itu, library diunduh dalam bentuk file arsip (.tar.gz atau .whl), kemudian diekstrak dan diinstal secara otomatis ke lingkungan Python saya. Proses ini memastikan bahwa semua komponen yang diperlukan telah siap digunakan untuk mengambil data seperti ulasan, rating, dan informasi lain dari Play Store secara efisien."
   ]
  },
  {
   "cell_type": "code",
   "execution_count": 2,
   "id": "0fc6bbf9",
   "metadata": {},
   "outputs": [],
   "source": [
    "from google_play_scraper import Sort, reviews\n",
    "import pandas as pd\n",
    "import time"
   ]
  },
  {
   "cell_type": "markdown",
   "id": "2165cf61",
   "metadata": {},
   "source": [
    "Baris kode *from google_play_scraper import Sort, reviews_all* saya gunakan untuk mengambil komponen-komponen penting dari library yang berperan dalam proses pengambilan data ulasan aplikasi dari Play Store. Komponen **Sort** membantu menentukan urutan tampilan data ulasan, misalnya apakah diurutkan berdasarkan tanggal terbaru atau lama, sehingga memudahkan saya dalam mengatur serta menampilkan informasi sesuai kebutuhan. Sementara itu, fungsi **reviews_all** memungkinkan saya untuk mengumpulkan seluruh data ulasan aplikasi secara otomatis tanpa harus mengambil satu per satu, menjadikan proses scraping lebih efisien dan menyeluruh. Selain itu, perintah *import pandas as pd* saya gunakan untuk mengimpor library *pandas* dengan alias *pd*, yang sangat berguna dalam memanipulasi data yang telah diambil, mengubahnya ke dalam format tabel atau dataframe, serta melakukan analisis data secara lebih lanjut. Gabungan perintah-perintah ini memastikan bahwa seluruh komponen penting untuk melakukan scraping data dan pengolahan informasi siap digunakan dalam lingkungan Python saya."
   ]
  },
  {
   "cell_type": "code",
   "execution_count": 3,
   "id": "e98cbe3b",
   "metadata": {},
   "outputs": [
    {
     "name": "stdout",
     "output_type": "stream",
     "text": [
      "Mulai mengambil ulasan (maksimal 15000 data)...\n",
      "  + 200 ulasan ditambahkan (total: 200/15000)\n",
      "  + 200 ulasan ditambahkan (total: 400/15000)\n",
      "  + 200 ulasan ditambahkan (total: 600/15000)\n",
      "  + 200 ulasan ditambahkan (total: 800/15000)\n",
      "  + 200 ulasan ditambahkan (total: 1000/15000)\n",
      "  + 200 ulasan ditambahkan (total: 1200/15000)\n",
      "  + 200 ulasan ditambahkan (total: 1400/15000)\n",
      "  + 200 ulasan ditambahkan (total: 1600/15000)\n",
      "  + 200 ulasan ditambahkan (total: 1800/15000)\n",
      "  + 200 ulasan ditambahkan (total: 2000/15000)\n",
      "  + 200 ulasan ditambahkan (total: 2200/15000)\n",
      "  + 200 ulasan ditambahkan (total: 2400/15000)\n",
      "  + 200 ulasan ditambahkan (total: 2600/15000)\n",
      "  + 200 ulasan ditambahkan (total: 2800/15000)\n",
      "  + 200 ulasan ditambahkan (total: 3000/15000)\n",
      "  + 200 ulasan ditambahkan (total: 3200/15000)\n",
      "  + 200 ulasan ditambahkan (total: 3400/15000)\n",
      "  + 200 ulasan ditambahkan (total: 3600/15000)\n",
      "  + 200 ulasan ditambahkan (total: 3800/15000)\n",
      "  + 200 ulasan ditambahkan (total: 4000/15000)\n",
      "  + 200 ulasan ditambahkan (total: 4200/15000)\n",
      "  + 200 ulasan ditambahkan (total: 4400/15000)\n",
      "  + 200 ulasan ditambahkan (total: 4600/15000)\n",
      "  + 200 ulasan ditambahkan (total: 4800/15000)\n",
      "  + 200 ulasan ditambahkan (total: 5000/15000)\n",
      "  + 200 ulasan ditambahkan (total: 5200/15000)\n",
      "  + 200 ulasan ditambahkan (total: 5400/15000)\n",
      "  + 200 ulasan ditambahkan (total: 5600/15000)\n",
      "  + 200 ulasan ditambahkan (total: 5800/15000)\n",
      "  + 200 ulasan ditambahkan (total: 6000/15000)\n",
      "  + 200 ulasan ditambahkan (total: 6200/15000)\n",
      "  + 200 ulasan ditambahkan (total: 6400/15000)\n",
      "  + 200 ulasan ditambahkan (total: 6600/15000)\n",
      "  + 200 ulasan ditambahkan (total: 6800/15000)\n",
      "  + 200 ulasan ditambahkan (total: 7000/15000)\n",
      "  + 200 ulasan ditambahkan (total: 7200/15000)\n",
      "  + 200 ulasan ditambahkan (total: 7400/15000)\n",
      "  + 200 ulasan ditambahkan (total: 7600/15000)\n",
      "  + 200 ulasan ditambahkan (total: 7800/15000)\n",
      "  + 200 ulasan ditambahkan (total: 8000/15000)\n",
      "  + 200 ulasan ditambahkan (total: 8200/15000)\n",
      "  + 200 ulasan ditambahkan (total: 8400/15000)\n",
      "  + 200 ulasan ditambahkan (total: 8600/15000)\n",
      "  + 200 ulasan ditambahkan (total: 8800/15000)\n",
      "  + 200 ulasan ditambahkan (total: 9000/15000)\n",
      "  + 200 ulasan ditambahkan (total: 9200/15000)\n",
      "  + 200 ulasan ditambahkan (total: 9400/15000)\n",
      "  + 200 ulasan ditambahkan (total: 9600/15000)\n",
      "  + 200 ulasan ditambahkan (total: 9800/15000)\n",
      "  + 200 ulasan ditambahkan (total: 10000/15000)\n",
      "  + 200 ulasan ditambahkan (total: 10200/15000)\n",
      "  + 200 ulasan ditambahkan (total: 10400/15000)\n",
      "  + 200 ulasan ditambahkan (total: 10600/15000)\n",
      "  + 200 ulasan ditambahkan (total: 10800/15000)\n",
      "  + 200 ulasan ditambahkan (total: 11000/15000)\n",
      "  + 200 ulasan ditambahkan (total: 11200/15000)\n",
      "  + 200 ulasan ditambahkan (total: 11400/15000)\n",
      "  + 200 ulasan ditambahkan (total: 11600/15000)\n",
      "  + 200 ulasan ditambahkan (total: 11800/15000)\n",
      "  + 200 ulasan ditambahkan (total: 12000/15000)\n",
      "  + 200 ulasan ditambahkan (total: 12200/15000)\n",
      "  + 200 ulasan ditambahkan (total: 12400/15000)\n",
      "  + 200 ulasan ditambahkan (total: 12600/15000)\n",
      "  + 200 ulasan ditambahkan (total: 12800/15000)\n",
      "  + 200 ulasan ditambahkan (total: 13000/15000)\n",
      "  + 200 ulasan ditambahkan (total: 13200/15000)\n",
      "  + 200 ulasan ditambahkan (total: 13400/15000)\n",
      "  + 200 ulasan ditambahkan (total: 13600/15000)\n",
      "  + 200 ulasan ditambahkan (total: 13800/15000)\n",
      "  + 200 ulasan ditambahkan (total: 14000/15000)\n",
      "  + 200 ulasan ditambahkan (total: 14200/15000)\n",
      "  + 200 ulasan ditambahkan (total: 14400/15000)\n",
      "  + 200 ulasan ditambahkan (total: 14600/15000)\n",
      "  + 200 ulasan ditambahkan (total: 14800/15000)\n",
      "  + 200 ulasan ditambahkan (total: 15000/15000)\n",
      "\n",
      "✅ Total ulasan berhasil diambil: 15000 (dari maksimal 15000)\n"
     ]
    }
   ],
   "source": [
    "all_reviews = []\n",
    "max_data = 15000  # Batas maksimal data yang ingin diambil\n",
    "print(f\"Mulai mengambil ulasan (maksimal {max_data} data)...\")\n",
    "\n",
    "continuation_token = None\n",
    "total = 0\n",
    "\n",
    "while total < max_data:\n",
    "    try:\n",
    "        # Hitung sisa data yang perlu diambil\n",
    "        remaining = max_data - total\n",
    "        current_count = min(200, remaining)  # Ambil 200 atau sisa yang dibutuhkan\n",
    "        \n",
    "        # Ambil batch ulasan\n",
    "        review_batch, continuation_token = reviews(\n",
    "            \"com.garena.game.codm\",\n",
    "            lang=\"id\",\n",
    "            country=\"id\",\n",
    "            sort=Sort.NEWEST,\n",
    "            count=current_count,\n",
    "            continuation_token=continuation_token\n",
    "        )\n",
    "    except Exception as e:\n",
    "        print(f\"  ⚠️  Error: {e}, retrying in 5 seconds...\")\n",
    "        time.sleep(5)\n",
    "        continue\n",
    "\n",
    "    # Potong batch jika melebihi batas maksimal\n",
    "    if total + len(review_batch) > max_data:\n",
    "        needed = max_data - total\n",
    "        review_batch = review_batch[:needed]\n",
    "    \n",
    "    all_reviews.extend(review_batch)\n",
    "    total += len(review_batch)\n",
    "    print(f\"  + {len(review_batch)} ulasan ditambahkan (total: {total}/{max_data})\")\n",
    "\n",
    "    # Berhenti jika sudah mencapai target atau tidak ada token lanjutan\n",
    "    if continuation_token is None or total >= max_data:\n",
    "        break\n",
    "\n",
    "    # Delay untuk menghindari blokir\n",
    "    time.sleep(1)\n",
    "\n",
    "print(f\"\\n✅ Total ulasan berhasil diambil: {len(all_reviews)} (dari maksimal {max_data})\")"
   ]
  },
  {
   "cell_type": "markdown",
   "id": "3dba2016",
   "metadata": {},
   "source": [
    "Pada proses ini, saya mengumpulkan data ulasan dari aplikasi **Call of Duty: Mobile** (dengan ID aplikasi *\"com.garena.game.codm\"*) yang tersedia di Google Play Store, berdasarkan skor ulasan dari 1 hingga 5. Pertama, saya mendeklarasikan sebuah list kosong bernama **all_reviews** yang berfungsi sebagai wadah untuk menyimpan seluruh data ulasan yang dikumpulkan. Target total ulasan yang ingin saya ambil adalah sebanyak **15.000 ulasan**, yang kemudian dibagi rata ke dalam lima kelompok berdasarkan skor (1 sampai 5), sehingga masing-masing skor dikumpulkan sebanyak **3.000 ulasan**.\n",
    "\n",
    "Dalam proses pengambilan data, dilakukan perulangan menggunakan skor dari 1 hingga 5. Di setiap iterasi, saya menggunakan fungsi **reviews** dari library `google_play_scraper` untuk mengambil ulasan dengan parameter yang telah ditentukan, yaitu:\n",
    "- ID aplikasi: *\"com.garena.game.codm\"*\n",
    "- Bahasa: *\"id\"* (Bahasa Indonesia)\n",
    "- Negara: *\"id\"* (Indonesia)\n",
    "- Urutan: *Sort.MOST_RELEVANT* (mengambil ulasan yang paling relevan)\n",
    "- Jumlah ulasan: *3.000* (per skor)\n",
    "- Filter skor: sesuai dengan nilai skor pada iterasi saat itu (1 sampai 5)\n",
    "\n",
    "Setiap kumpulan ulasan yang berhasil diambil akan langsung ditambahkan ke dalam list **all_reviews** menggunakan metode `extend()`. Dengan pendekatan ini, saya dapat memastikan bahwa data ulasan yang diperoleh mencakup berbagai variasi skor secara merata, dan total keseluruhan ulasan yang dikumpulkan mencapai **15.000 ulasan**, sehingga data siap untuk dianalisis atau diproses lebih lanjut."
   ]
  },
  {
   "cell_type": "code",
   "execution_count": 4,
   "id": "4bec5214",
   "metadata": {},
   "outputs": [],
   "source": [
    "data = pd.DataFrame(all_reviews)\n",
    "data.to_csv(\"data/codm_reviews.csv\", index=False, encoding=\"utf-8\")"
   ]
  },
  {
   "cell_type": "markdown",
   "id": "db6b81a0",
   "metadata": {},
   "source": [
    "Pada proses ini, data ulasan yang telah dikumpulkan dalam list secara otomatis dikonversi menjadi format tabel menggunakan struktur DataFrame. Proses ini memungkinkan data tersebut menjadi lebih mudah untuk dianalisis dan dimanipulasi, karena DataFrame menyajikan data dalam bentuk baris dan kolom yang terstruktur. Setelah data berada dalam format DataFrame, langkah selanjutnya adalah menyimpannya ke dalam sebuah file CSV, yang merupakan format file yang umum digunakan untuk penyimpanan dan pertukaran data. File CSV ini disimpan dalam direktori yang ditentukan, dengan pengaturan yang memastikan indeks DataFrame tidak ikut tersimpan agar file bersih dari informasi tambahan yang tidak diperlukan. Selain itu, dengan menggunakan encoding UTF-8, proses penyimpanan menjamin bahwa semua karakter, termasuk karakter khusus atau non-ASCII, ditulis dengan benar sehingga data tetap akurat dan mudah dibaca saat digunakan kembali."
   ]
  }
 ],
 "metadata": {
  "kernelspec": {
   "display_name": "Python 3",
   "language": "python",
   "name": "python3"
  },
  "language_info": {
   "codemirror_mode": {
    "name": "ipython",
    "version": 3
   },
   "file_extension": ".py",
   "mimetype": "text/x-python",
   "name": "python",
   "nbconvert_exporter": "python",
   "pygments_lexer": "ipython3",
   "version": "3.11.5"
  }
 },
 "nbformat": 4,
 "nbformat_minor": 5
}

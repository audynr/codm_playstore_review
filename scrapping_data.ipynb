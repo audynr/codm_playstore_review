{
 "cells": [
  {
   "cell_type": "markdown",
   "id": "a9fa3bcb",
   "metadata": {},
   "source": [
    "# Proyek Analisis Sentimen\n",
    "- **Nama:** Audy Nadira Ramadanti\n",
    "- **Email:** audynadiraramdanti@gmail.com\n",
    "- **ID Dicoding:** audy_nadira_ramadanti_zWZ9"
   ]
  },
  {
   "cell_type": "code",
   "execution_count": 1,
   "id": "c7dc3e55",
   "metadata": {},
   "outputs": [
    {
     "name": "stdout",
     "output_type": "stream",
     "text": [
      "Requirement already satisfied: google-play-scraper in c:\\users\\fx506\\appdata\\local\\programs\\python\\python311\\lib\\site-packages (1.2.7)\n"
     ]
    }
   ],
   "source": [
    "!pip install google-play-scraper"
   ]
  },
  {
   "cell_type": "markdown",
   "id": "61c1cfdd",
   "metadata": {},
   "source": [
    "Perintah !pip install google-play-scraper saya gunakan untuk mengunduh library yang terkait dengan scraping data dari Play Store. Begitu perintah tersebut dijalankan di Jupyter Notebook, pip—manajer paket Python—akan mencari library tersebut di repositori resmi PyPI dan memeriksa versi terbaru beserta dependensi yang dibutuhkan. Setelah itu, library diunduh dalam bentuk file arsip (.tar.gz atau .whl), kemudian diekstrak dan diinstal secara otomatis ke lingkungan Python saya. Proses ini memastikan bahwa semua komponen yang diperlukan telah siap digunakan untuk mengambil data seperti ulasan, rating, dan informasi lain dari Play Store secara efisien."
   ]
  },
  {
   "cell_type": "code",
   "execution_count": 2,
   "id": "0fc6bbf9",
   "metadata": {},
   "outputs": [],
   "source": [
    "from google_play_scraper import Sort, reviews_all\n",
    "import pandas as pd"
   ]
  },
  {
   "cell_type": "markdown",
   "id": "2165cf61",
   "metadata": {},
   "source": [
    "Baris kode *from google_play_scraper import Sort, reviews_all* saya gunakan untuk mengambil komponen-komponen penting dari library yang berperan dalam proses pengambilan data ulasan aplikasi dari Play Store. Komponen **Sort** membantu menentukan urutan tampilan data ulasan, misalnya apakah diurutkan berdasarkan tanggal terbaru atau lama, sehingga memudahkan saya dalam mengatur serta menampilkan informasi sesuai kebutuhan. Sementara itu, fungsi **reviews_all** memungkinkan saya untuk mengumpulkan seluruh data ulasan aplikasi secara otomatis tanpa harus mengambil satu per satu, menjadikan proses scraping lebih efisien dan menyeluruh. Selain itu, perintah *import pandas as pd* saya gunakan untuk mengimpor library *pandas* dengan alias *pd*, yang sangat berguna dalam memanipulasi data yang telah diambil, mengubahnya ke dalam format tabel atau dataframe, serta melakukan analisis data secara lebih lanjut. Gabungan perintah-perintah ini memastikan bahwa seluruh komponen penting untuk melakukan scraping data dan pengolahan informasi siap digunakan dalam lingkungan Python saya."
   ]
  },
  {
   "cell_type": "code",
   "execution_count": null,
   "id": "e98cbe3b",
   "metadata": {},
   "outputs": [
    {
     "name": "stdout",
     "output_type": "stream",
     "text": [
      "Total review diambil: 15000\n"
     ]
    }
   ],
   "source": [
    "from google_play_scraper import reviews, Sort\n",
    "\n",
    "all_reviews = []\n",
    "total_reviews = 15000\n",
    "scores = range(1, 6)\n",
    "per_score_limit = total_reviews // len(scores)  # 3000 per skor\n",
    "\n",
    "for score in scores:\n",
    "    review_batch, _ = reviews(\n",
    "        \"com.garena.game.codm\",\n",
    "        lang=\"id\",\n",
    "        country=\"id\",\n",
    "        sort=Sort.MOST_RELEVANT,\n",
    "        count=per_score_limit,\n",
    "        filter_score_with=score\n",
    "    )\n",
    "    all_reviews.extend(review_batch)"
   ]
  },
  {
   "cell_type": "markdown",
   "id": "3dba2016",
   "metadata": {},
   "source": [
    "Pada proses ini, saya mengumpulkan data ulasan dari aplikasi **Call of Duty: Mobile** (dengan ID aplikasi *\"com.garena.game.codm\"*) yang tersedia di Google Play Store, berdasarkan skor ulasan dari 1 hingga 5. Pertama, saya mendeklarasikan sebuah list kosong bernama **all_reviews** yang berfungsi sebagai wadah untuk menyimpan seluruh data ulasan yang dikumpulkan. Target total ulasan yang ingin saya ambil adalah sebanyak **15.000 ulasan**, yang kemudian dibagi rata ke dalam lima kelompok berdasarkan skor (1 sampai 5), sehingga masing-masing skor dikumpulkan sebanyak **3.000 ulasan**.\n",
    "\n",
    "Dalam proses pengambilan data, dilakukan perulangan menggunakan skor dari 1 hingga 5. Di setiap iterasi, saya menggunakan fungsi **reviews** dari library `google_play_scraper` untuk mengambil ulasan dengan parameter yang telah ditentukan, yaitu:\n",
    "- ID aplikasi: *\"com.garena.game.codm\"*\n",
    "- Bahasa: *\"id\"* (Bahasa Indonesia)\n",
    "- Negara: *\"id\"* (Indonesia)\n",
    "- Urutan: *Sort.MOST_RELEVANT* (mengambil ulasan yang paling relevan)\n",
    "- Jumlah ulasan: *3.000* (per skor)\n",
    "- Filter skor: sesuai dengan nilai skor pada iterasi saat itu (1 sampai 5)\n",
    "\n",
    "Setiap kumpulan ulasan yang berhasil diambil akan langsung ditambahkan ke dalam list **all_reviews** menggunakan metode `extend()`. Dengan pendekatan ini, saya dapat memastikan bahwa data ulasan yang diperoleh mencakup berbagai variasi skor secara merata, dan total keseluruhan ulasan yang dikumpulkan mencapai **15.000 ulasan**, sehingga data siap untuk dianalisis atau diproses lebih lanjut."
   ]
  },
  {
   "cell_type": "code",
   "execution_count": 4,
   "id": "4bec5214",
   "metadata": {},
   "outputs": [],
   "source": [
    "df = pd.DataFrame(all_reviews)\n",
    "df.to_csv(\"data/codm_reviews.csv\", index=False, encoding=\"utf-8\")"
   ]
  },
  {
   "cell_type": "markdown",
   "id": "db6b81a0",
   "metadata": {},
   "source": [
    "Pada proses ini, data ulasan yang telah dikumpulkan dalam list secara otomatis dikonversi menjadi format tabel menggunakan struktur DataFrame. Proses ini memungkinkan data tersebut menjadi lebih mudah untuk dianalisis dan dimanipulasi, karena DataFrame menyajikan data dalam bentuk baris dan kolom yang terstruktur. Setelah data berada dalam format DataFrame, langkah selanjutnya adalah menyimpannya ke dalam sebuah file CSV, yang merupakan format file yang umum digunakan untuk penyimpanan dan pertukaran data. File CSV ini disimpan dalam direktori yang ditentukan, dengan pengaturan yang memastikan indeks DataFrame tidak ikut tersimpan agar file bersih dari informasi tambahan yang tidak diperlukan. Selain itu, dengan menggunakan encoding UTF-8, proses penyimpanan menjamin bahwa semua karakter, termasuk karakter khusus atau non-ASCII, ditulis dengan benar sehingga data tetap akurat dan mudah dibaca saat digunakan kembali."
   ]
  }
 ],
 "metadata": {
  "kernelspec": {
   "display_name": "Python 3",
   "language": "python",
   "name": "python3"
  },
  "language_info": {
   "codemirror_mode": {
    "name": "ipython",
    "version": 3
   },
   "file_extension": ".py",
   "mimetype": "text/x-python",
   "name": "python",
   "nbconvert_exporter": "python",
   "pygments_lexer": "ipython3",
   "version": "3.11.5"
  }
 },
 "nbformat": 4,
 "nbformat_minor": 5
}
